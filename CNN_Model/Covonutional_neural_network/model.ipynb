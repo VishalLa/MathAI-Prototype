{
 "cells": [
  {
   "cell_type": "code",
   "execution_count": null,
   "id": "ae43f6f9",
   "metadata": {},
   "outputs": [],
   "source": [
    "import numpy as np\n",
    "import matplotlib.pyplot as plt\n",
    "from model_pipleine import ModelPipeline"
   ]
  },
  {
   "cell_type": "code",
   "execution_count": null,
   "id": "c1a5cbb7",
   "metadata": {},
   "outputs": [],
   "source": [
    "data_folder  = [\n",
    "    \"C:\\\\Users\\\\visha\\\\OneDrive\\\\Desktop\\\\new dataset\\\\char 0\",\n",
    "    \"C:\\\\Users\\\\visha\\\\OneDrive\\\\Desktop\\\\new dataset\\\\char 1\",\n",
    "    \"C:\\\\Users\\\\visha\\\\OneDrive\\\\Desktop\\\\new dataset\\\\char 2\",\n",
    "    \"C:\\\\Users\\\\visha\\\\OneDrive\\\\Desktop\\\\new dataset\\\\char 3\",\n",
    "    \"C:\\\\Users\\\\visha\\\\OneDrive\\\\Desktop\\\\new dataset\\\\char 4\",\n",
    "    \"C:\\\\Users\\\\visha\\\\OneDrive\\\\Desktop\\\\new dataset\\\\char 5\",\n",
    "    \"C:\\\\Users\\\\visha\\\\OneDrive\\\\Desktop\\\\new dataset\\\\char 6\",\n",
    "    \"C:\\\\Users\\\\visha\\\\OneDrive\\\\Desktop\\\\new dataset\\\\char 7\",\n",
    "    \"C:\\\\Users\\\\visha\\\\OneDrive\\\\Desktop\\\\new dataset\\\\char 8\",\n",
    "    \"C:\\\\Users\\\\visha\\\\OneDrive\\\\Desktop\\\\new dataset\\\\char 9\",\n",
    "]"
   ]
  },
  {
   "cell_type": "code",
   "execution_count": null,
   "id": "c824a71e",
   "metadata": {},
   "outputs": [],
   "source": [
    "pipeline = ModelPipeline(data_folder=data_folder)"
   ]
  },
  {
   "cell_type": "code",
   "execution_count": null,
   "id": "45fc3035",
   "metadata": {},
   "outputs": [],
   "source": [
    "fold_losses, fold_accuracies, avg_accuracy, avg_error = pipeline.cross_validate_model(n_jobs=5)"
   ]
  },
  {
   "cell_type": "code",
   "execution_count": null,
   "id": "857c5c1e",
   "metadata": {},
   "outputs": [],
   "source": [
    "print(\"Fold Losses:\", fold_losses)\n",
    "print(\"Fold Accuracies:\", fold_accuracies)\n",
    "print(\"Average Accuracy:\", avg_accuracy)\n",
    "print(\"Average Error:\", avg_error)"
   ]
  },
  {
   "cell_type": "code",
   "execution_count": null,
   "id": "2673ab94",
   "metadata": {},
   "outputs": [],
   "source": [
    "pipeline.test_model()"
   ]
  },
  {
   "cell_type": "code",
   "execution_count": null,
   "id": "9236054a",
   "metadata": {},
   "outputs": [],
   "source": [
    "plt.figure(figsize=(8, 4))\n",
    "plt.plot(fold_losses, marker='o', label='Fold Losses')\n",
    "plt.xlabel('Fold Number')\n",
    "plt.ylabel('Loss')\n",
    "plt.title('Cross-Validation Losses')\n",
    "plt.legend()\n",
    "plt.grid()\n",
    "plt.show()"
   ]
  },
  {
   "cell_type": "code",
   "execution_count": null,
   "id": "17178ea8",
   "metadata": {},
   "outputs": [],
   "source": [
    "plt.figure(figsize=(8, 4))\n",
    "plt.plot(fold_accuracies, marker='o', color='green', label='Validation Accuracy')\n",
    "plt.xlabel('Fold')\n",
    "plt.ylabel('Accuracy (%)')\n",
    "plt.title('Validation Accuracy per Fold')\n",
    "plt.grid(True)\n",
    "plt.legend()\n",
    "plt.show()"
   ]
  },
  {
   "cell_type": "code",
   "execution_count": null,
   "id": "1f2accdf",
   "metadata": {},
   "outputs": [],
   "source": [
    "x = np.arange(len(fold_losses))\n",
    "fig, ax1 = plt.subplots(figsize=(8, 4))\n",
    "\n",
    "color = 'tab:blue'\n",
    "ax1.set_xlabel('Fold')\n",
    "ax1.set_ylabel('Loss', color=color)\n",
    "ax1.bar(x - 0.2, fold_losses, width=0.4, color=color, label='Loss')\n",
    "ax1.tick_params(axis='y', labelcolor=color)\n",
    "\n",
    "ax2 = ax1.twinx()\n",
    "color = 'tab:green'\n",
    "ax2.set_ylabel('Accuracy (%)', color=color)\n",
    "ax2.bar(x + 0.2, fold_accuracies, width=0.4, color=color, label='Accuracy')\n",
    "ax2.tick_params(axis='y', labelcolor=color)\n",
    "\n",
    "plt.title('Validation Loss and Accuracy per Fold')\n",
    "fig.tight_layout()\n",
    "plt.show()"
   ]
  },
  {
   "cell_type": "code",
   "execution_count": null,
   "id": "1741f7bf",
   "metadata": {},
   "outputs": [],
   "source": [
    "pipeline.save_model()"
   ]
  },
  {
   "cell_type": "code",
   "execution_count": null,
   "id": "bbe78a78",
   "metadata": {},
   "outputs": [],
   "source": []
  }
 ],
 "metadata": {
  "kernelspec": {
   "display_name": "venv",
   "language": "python",
   "name": "python3"
  },
  "language_info": {
   "codemirror_mode": {
    "name": "ipython",
    "version": 3
   },
   "file_extension": ".py",
   "mimetype": "text/x-python",
   "name": "python",
   "nbconvert_exporter": "python",
   "pygments_lexer": "ipython3",
   "version": "3.11.9"
  }
 },
 "nbformat": 4,
 "nbformat_minor": 5
}
