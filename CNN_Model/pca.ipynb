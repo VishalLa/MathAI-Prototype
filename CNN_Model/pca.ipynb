{
 "cells": [
  {
   "cell_type": "code",
   "execution_count": 15,
   "id": "bf0832c6",
   "metadata": {},
   "outputs": [],
   "source": [
    "import numpy as np\n",
    "import matplotlib.pyplot as plt\n",
    "from Covonutional_neural_network.modelUttils.loaddataset import load_dataset"
   ]
  },
  {
   "cell_type": "code",
   "execution_count": 16,
   "id": "4df946c5",
   "metadata": {},
   "outputs": [],
   "source": [
    "folder_paths = [\n",
    "    \"C:\\\\Users\\\\visha\\\\OneDrive\\\\Desktop\\\\entiredataset\\\\digitdataset1\",\n",
    "    'C:\\\\Users\\\\visha\\\\OneDrive\\\\Desktop\\\\entiredataset\\\\symbols\\\\-',\n",
    "    'C:\\\\Users\\\\visha\\\\OneDrive\\\\Desktop\\\\entiredataset\\\\symbols\\\\(',\n",
    "    'C:\\\\Users\\\\visha\\\\OneDrive\\\\Desktop\\\\entiredataset\\\\symbols\\\\)',\n",
    "    'C:\\\\Users\\\\visha\\\\OneDrive\\\\Desktop\\\\entiredataset\\\\symbols\\\\+',\n",
    "    'C:\\\\Users\\\\visha\\\\OneDrive\\\\Desktop\\\\entiredataset\\\\symbols\\\\x',\n",
    "    'C:\\\\Users\\\\visha\\\\OneDrive\\\\Desktop\\\\entiredataset\\\\symbols\\\\÷',\n",
    "]"
   ]
  },
  {
   "cell_type": "code",
   "execution_count": 17,
   "id": "9d5a95a2",
   "metadata": {},
   "outputs": [
    {
     "ename": "FileNotFoundError",
     "evalue": "[Errno 2] No such file or directory: 'C:\\\\Users\\\\visha\\\\OneDrive\\\\Desktop\\\\MathAI\\\\Model\\\\entiredataset\\\\mnist.npz'",
     "output_type": "error",
     "traceback": [
      "\u001b[31m---------------------------------------------------------------------------\u001b[39m",
      "\u001b[31mFileNotFoundError\u001b[39m                         Traceback (most recent call last)",
      "\u001b[36mCell\u001b[39m\u001b[36m \u001b[39m\u001b[32mIn[17]\u001b[39m\u001b[32m, line 1\u001b[39m\n\u001b[32m----> \u001b[39m\u001b[32m1\u001b[39m X, y = \u001b[43mload_dataset\u001b[49m\u001b[43m(\u001b[49m\u001b[43mfolder_path\u001b[49m\u001b[43m=\u001b[49m\u001b[43mfolder_paths\u001b[49m\u001b[43m)\u001b[49m\n",
      "\u001b[36mFile \u001b[39m\u001b[32mc:\\Users\\visha\\OneDrive\\Desktop\\MathAI\\CNN_Model\\Covonutional_neural_network\\modelUttils\\loaddataset.py:87\u001b[39m, in \u001b[36mload_dataset\u001b[39m\u001b[34m(folder_path)\u001b[39m\n\u001b[32m     85\u001b[39m \u001b[38;5;28;01mdef\u001b[39;00m\u001b[38;5;250m \u001b[39m\u001b[34mload_dataset\u001b[39m(folder_path: \u001b[38;5;28mlist\u001b[39m[\u001b[38;5;28mstr\u001b[39m]):\n\u001b[32m     86\u001b[39m     path_for_mnist = \u001b[33m'\u001b[39m\u001b[33mC:\u001b[39m\u001b[38;5;130;01m\\\\\u001b[39;00m\u001b[33mUsers\u001b[39m\u001b[38;5;130;01m\\\\\u001b[39;00m\u001b[33mvisha\u001b[39m\u001b[38;5;130;01m\\\\\u001b[39;00m\u001b[33mOneDrive\u001b[39m\u001b[38;5;130;01m\\\\\u001b[39;00m\u001b[33mDesktop\u001b[39m\u001b[38;5;130;01m\\\\\u001b[39;00m\u001b[33mMathAI\u001b[39m\u001b[38;5;130;01m\\\\\u001b[39;00m\u001b[33mModel\u001b[39m\u001b[38;5;130;01m\\\\\u001b[39;00m\u001b[33mentiredataset\u001b[39m\u001b[38;5;130;01m\\\\\u001b[39;00m\u001b[33mmnist.npz\u001b[39m\u001b[33m'\u001b[39m\n\u001b[32m---> \u001b[39m\u001b[32m87\u001b[39m     mnist_images, mnist_labels = \u001b[43mload_mnist_dataset\u001b[49m\u001b[43m(\u001b[49m\u001b[43mpath_for_mnist\u001b[49m\u001b[43m)\u001b[49m\n\u001b[32m     89\u001b[39m     \u001b[38;5;66;03m# Normalize MNIST images to [0, 1]\u001b[39;00m\n\u001b[32m     90\u001b[39m     mnist_images = mnist_images / \u001b[32m255.0\u001b[39m\n",
      "\u001b[36mFile \u001b[39m\u001b[32mc:\\Users\\visha\\OneDrive\\Desktop\\MathAI\\CNN_Model\\Covonutional_neural_network\\modelUttils\\loaddataset.py:36\u001b[39m, in \u001b[36mload_mnist_dataset\u001b[39m\u001b[34m(path)\u001b[39m\n\u001b[32m     35\u001b[39m \u001b[38;5;28;01mdef\u001b[39;00m\u001b[38;5;250m \u001b[39m\u001b[34mload_mnist_dataset\u001b[39m(path):\n\u001b[32m---> \u001b[39m\u001b[32m36\u001b[39m     data = \u001b[43mnp\u001b[49m\u001b[43m.\u001b[49m\u001b[43mload\u001b[49m\u001b[43m(\u001b[49m\u001b[43mpath\u001b[49m\u001b[43m,\u001b[49m\u001b[43m \u001b[49m\u001b[43mallow_pickle\u001b[49m\u001b[43m=\u001b[49m\u001b[38;5;28;43;01mTrue\u001b[39;49;00m\u001b[43m)\u001b[49m\n\u001b[32m     37\u001b[39m     x_train = data[\u001b[33m'\u001b[39m\u001b[33mx_train\u001b[39m\u001b[33m'\u001b[39m]\n\u001b[32m     38\u001b[39m     y_train = data[\u001b[33m'\u001b[39m\u001b[33my_train\u001b[39m\u001b[33m'\u001b[39m]\n",
      "\u001b[36mFile \u001b[39m\u001b[32mc:\\Users\\visha\\OneDrive\\Desktop\\MathAI\\venv\\Lib\\site-packages\\numpy\\lib\\_npyio_impl.py:451\u001b[39m, in \u001b[36mload\u001b[39m\u001b[34m(file, mmap_mode, allow_pickle, fix_imports, encoding, max_header_size)\u001b[39m\n\u001b[32m    449\u001b[39m     own_fid = \u001b[38;5;28;01mFalse\u001b[39;00m\n\u001b[32m    450\u001b[39m \u001b[38;5;28;01melse\u001b[39;00m:\n\u001b[32m--> \u001b[39m\u001b[32m451\u001b[39m     fid = stack.enter_context(\u001b[38;5;28;43mopen\u001b[39;49m\u001b[43m(\u001b[49m\u001b[43mos\u001b[49m\u001b[43m.\u001b[49m\u001b[43mfspath\u001b[49m\u001b[43m(\u001b[49m\u001b[43mfile\u001b[49m\u001b[43m)\u001b[49m\u001b[43m,\u001b[49m\u001b[43m \u001b[49m\u001b[33;43m\"\u001b[39;49m\u001b[33;43mrb\u001b[39;49m\u001b[33;43m\"\u001b[39;49m\u001b[43m)\u001b[49m)\n\u001b[32m    452\u001b[39m     own_fid = \u001b[38;5;28;01mTrue\u001b[39;00m\n\u001b[32m    454\u001b[39m \u001b[38;5;66;03m# Code to distinguish from NumPy binary files and pickles.\u001b[39;00m\n",
      "\u001b[31mFileNotFoundError\u001b[39m: [Errno 2] No such file or directory: 'C:\\\\Users\\\\visha\\\\OneDrive\\\\Desktop\\\\MathAI\\\\Model\\\\entiredataset\\\\mnist.npz'"
     ]
    }
   ],
   "source": [
    "X, y = load_dataset(folder_path=folder_paths)"
   ]
  },
  {
   "cell_type": "code",
   "execution_count": null,
   "id": "e36f14de",
   "metadata": {},
   "outputs": [],
   "source": []
  }
 ],
 "metadata": {
  "kernelspec": {
   "display_name": "venv",
   "language": "python",
   "name": "python3"
  },
  "language_info": {
   "codemirror_mode": {
    "name": "ipython",
    "version": 3
   },
   "file_extension": ".py",
   "mimetype": "text/x-python",
   "name": "python",
   "nbconvert_exporter": "python",
   "pygments_lexer": "ipython3",
   "version": "3.11.9"
  }
 },
 "nbformat": 4,
 "nbformat_minor": 5
}
